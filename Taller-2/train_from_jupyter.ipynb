{
 "cells": [
  {
   "cell_type": "markdown",
   "metadata": {},
   "source": [
    "# Entrenamiento de Modelos de Machine Learning para API de Pingüinos\n",
    "\n",
    "Este notebook entrena modelos de ML y los guarda en la carpeta compartida `./models` para que la API FastAPI los consuma automáticamente."
   ]
  },
  {
   "cell_type": "markdown",
   "metadata": {},
   "source": [
    "## 1. Importar librerías necesarias"
   ]
  },
  {
   "cell_type": "code",
   "execution_count": 1,
   "metadata": {},
   "outputs": [
    {
     "name": "stdout",
     "output_type": "stream",
     "text": [
      "✅ Librerías importadas correctamente\n"
     ]
    }
   ],
   "source": [
    "import os\n",
    "import json\n",
    "import joblib\n",
    "import pandas as pd\n",
    "import numpy as np\n",
    "from pathlib import Path\n",
    "import seaborn as sns\n",
    "import matplotlib.pyplot as plt\n",
    "\n",
    "from sklearn.model_selection import train_test_split\n",
    "from sklearn.preprocessing import StandardScaler\n",
    "from sklearn.pipeline import Pipeline\n",
    "from sklearn.neighbors import KNeighborsClassifier\n",
    "from sklearn.ensemble import RandomForestClassifier\n",
    "from sklearn.svm import SVC\n",
    "from sklearn.metrics import accuracy_score, f1_score, classification_report, confusion_matrix\n",
    "\n",
    "print(\"✅ Librerías importadas correctamente\")"
   ]
  },
  {
   "cell_type": "markdown",
   "metadata": {},
   "source": [
    "## 2. Definir configuración y rutas"
   ]
  },
  {
   "cell_type": "code",
   "execution_count": 2,
   "metadata": {},
   "outputs": [
    {
     "name": "stdout",
     "output_type": "stream",
     "text": [
      "📁 Directorio de modelos: /app/models\n",
      "📊 Features a usar: ['bill_length_mm', 'bill_depth_mm', 'flipper_length_mm', 'body_mass_g']\n"
     ]
    }
   ],
   "source": [
    "# Configuración\n",
    "MODELS_DIR = Path(\"./models\")\n",
    "MODELS_DIR.mkdir(exist_ok=True)\n",
    "\n",
    "# Features esperadas para los pingüinos\n",
    "PENGUIN_FEATURES = [\n",
    "    \"bill_length_mm\", \"bill_depth_mm\", \"flipper_length_mm\", \"body_mass_g\"\n",
    "]\n",
    "\n",
    "print(f\"📁 Directorio de modelos: {MODELS_DIR.absolute()}\")\n",
    "print(f\"📊 Features a usar: {PENGUIN_FEATURES}\")"
   ]
  },
  {
   "cell_type": "markdown",
   "metadata": {},
   "source": [
    "## 3. Cargar y explorar el dataset de pingüinos"
   ]
  },
  {
   "cell_type": "code",
   "execution_count": 3,
   "metadata": {},
   "outputs": [
    {
     "name": "stdout",
     "output_type": "stream",
     "text": [
      "Dataset original: 344 filas, 7 columnas\n",
      "\n",
      "Primeras filas:\n"
     ]
    },
    {
     "data": {
      "text/html": [
       "<div>\n",
       "<style scoped>\n",
       "    .dataframe tbody tr th:only-of-type {\n",
       "        vertical-align: middle;\n",
       "    }\n",
       "\n",
       "    .dataframe tbody tr th {\n",
       "        vertical-align: top;\n",
       "    }\n",
       "\n",
       "    .dataframe thead th {\n",
       "        text-align: right;\n",
       "    }\n",
       "</style>\n",
       "<table border=\"1\" class=\"dataframe\">\n",
       "  <thead>\n",
       "    <tr style=\"text-align: right;\">\n",
       "      <th></th>\n",
       "      <th>species</th>\n",
       "      <th>island</th>\n",
       "      <th>bill_length_mm</th>\n",
       "      <th>bill_depth_mm</th>\n",
       "      <th>flipper_length_mm</th>\n",
       "      <th>body_mass_g</th>\n",
       "      <th>sex</th>\n",
       "    </tr>\n",
       "  </thead>\n",
       "  <tbody>\n",
       "    <tr>\n",
       "      <th>0</th>\n",
       "      <td>Adelie</td>\n",
       "      <td>Torgersen</td>\n",
       "      <td>39.1</td>\n",
       "      <td>18.7</td>\n",
       "      <td>181.0</td>\n",
       "      <td>3750.0</td>\n",
       "      <td>Male</td>\n",
       "    </tr>\n",
       "    <tr>\n",
       "      <th>1</th>\n",
       "      <td>Adelie</td>\n",
       "      <td>Torgersen</td>\n",
       "      <td>39.5</td>\n",
       "      <td>17.4</td>\n",
       "      <td>186.0</td>\n",
       "      <td>3800.0</td>\n",
       "      <td>Female</td>\n",
       "    </tr>\n",
       "    <tr>\n",
       "      <th>2</th>\n",
       "      <td>Adelie</td>\n",
       "      <td>Torgersen</td>\n",
       "      <td>40.3</td>\n",
       "      <td>18.0</td>\n",
       "      <td>195.0</td>\n",
       "      <td>3250.0</td>\n",
       "      <td>Female</td>\n",
       "    </tr>\n",
       "    <tr>\n",
       "      <th>3</th>\n",
       "      <td>Adelie</td>\n",
       "      <td>Torgersen</td>\n",
       "      <td>NaN</td>\n",
       "      <td>NaN</td>\n",
       "      <td>NaN</td>\n",
       "      <td>NaN</td>\n",
       "      <td>NaN</td>\n",
       "    </tr>\n",
       "    <tr>\n",
       "      <th>4</th>\n",
       "      <td>Adelie</td>\n",
       "      <td>Torgersen</td>\n",
       "      <td>36.7</td>\n",
       "      <td>19.3</td>\n",
       "      <td>193.0</td>\n",
       "      <td>3450.0</td>\n",
       "      <td>Female</td>\n",
       "    </tr>\n",
       "  </tbody>\n",
       "</table>\n",
       "</div>"
      ],
      "text/plain": [
       "  species     island  bill_length_mm  bill_depth_mm  flipper_length_mm  \\\n",
       "0  Adelie  Torgersen            39.1           18.7              181.0   \n",
       "1  Adelie  Torgersen            39.5           17.4              186.0   \n",
       "2  Adelie  Torgersen            40.3           18.0              195.0   \n",
       "3  Adelie  Torgersen             NaN            NaN                NaN   \n",
       "4  Adelie  Torgersen            36.7           19.3              193.0   \n",
       "\n",
       "   body_mass_g     sex  \n",
       "0       3750.0    Male  \n",
       "1       3800.0  Female  \n",
       "2       3250.0  Female  \n",
       "3          NaN     NaN  \n",
       "4       3450.0  Female  "
      ]
     },
     "execution_count": 3,
     "metadata": {},
     "output_type": "execute_result"
    }
   ],
   "source": [
    "# Cargar dataset de pingüinos de seaborn\n",
    "df = sns.load_dataset(\"penguins\")\n",
    "print(f\"Dataset original: {df.shape[0]} filas, {df.shape[1]} columnas\")\n",
    "print(f\"\\nPrimeras filas:\")\n",
    "df.head()"
   ]
  },
  {
   "cell_type": "code",
   "execution_count": 4,
   "metadata": {},
   "outputs": [
    {
     "name": "stdout",
     "output_type": "stream",
     "text": [
      "Información del dataset:\n",
      "<class 'pandas.core.frame.DataFrame'>\n",
      "RangeIndex: 344 entries, 0 to 343\n",
      "Data columns (total 7 columns):\n",
      " #   Column             Non-Null Count  Dtype  \n",
      "---  ------             --------------  -----  \n",
      " 0   species            344 non-null    object \n",
      " 1   island             344 non-null    object \n",
      " 2   bill_length_mm     342 non-null    float64\n",
      " 3   bill_depth_mm      342 non-null    float64\n",
      " 4   flipper_length_mm  342 non-null    float64\n",
      " 5   body_mass_g        342 non-null    float64\n",
      " 6   sex                333 non-null    object \n",
      "dtypes: float64(4), object(3)\n",
      "memory usage: 18.9+ KB\n",
      "\n",
      "Valores faltantes por columna:\n",
      "species               0\n",
      "island                0\n",
      "bill_length_mm        2\n",
      "bill_depth_mm         2\n",
      "flipper_length_mm     2\n",
      "body_mass_g           2\n",
      "sex                  11\n",
      "dtype: int64\n"
     ]
    }
   ],
   "source": [
    "# Información del dataset\n",
    "print(\"Información del dataset:\")\n",
    "df.info()\n",
    "print(f\"\\nValores faltantes por columna:\")\n",
    "print(df.isnull().sum())"
   ]
  },
  {
   "cell_type": "code",
   "execution_count": 5,
   "metadata": {},
   "outputs": [
    {
     "name": "stdout",
     "output_type": "stream",
     "text": [
      "Dataset limpio: 342 filas\n",
      "\n",
      "Distribución de especies:\n",
      "species\n",
      "Adelie       151\n",
      "Gentoo       123\n",
      "Chinstrap     68\n",
      "Name: count, dtype: int64\n"
     ]
    }
   ],
   "source": [
    "# Limpiar datos: eliminar filas con valores faltantes en features importantes\n",
    "df_clean = df.dropna(subset=PENGUIN_FEATURES + [\"species\"])\n",
    "print(f\"Dataset limpio: {df_clean.shape[0]} filas\")\n",
    "\n",
    "# Distribución de especies\n",
    "print(\"\\nDistribución de especies:\")\n",
    "print(df_clean['species'].value_counts())"
   ]
  },
  {
   "cell_type": "markdown",
   "metadata": {},
   "source": [
    "## 4. Visualizar los datos"
   ]
  },
  {
   "cell_type": "code",
   "execution_count": 6,
   "metadata": {},
   "outputs": [
    {
     "data": {
      "image/png": "[encoded data removed]",
      "text/plain": [
       "<Figure size 1200x1000 with 4 Axes>"
      ]
     },
     "metadata": {},
     "output_type": "display_data"
    }
   ],
   "source": [
    "# Visualización de distribuciones\n",
    "fig, axes = plt.subplots(2, 2, figsize=(12, 10))\n",
    "axes = axes.ravel()\n",
    "\n",
    "for idx, feature in enumerate(PENGUIN_FEATURES):\n",
    "    for species in df_clean['species'].unique():\n",
    "        subset = df_clean[df_clean['species'] == species]\n",
    "        axes[idx].hist(subset[feature], alpha=0.5, label=species, bins=20)\n",
    "    axes[idx].set_xlabel(feature)\n",
    "    axes[idx].set_ylabel('Frecuencia')\n",
    "    axes[idx].legend()\n",
    "    axes[idx].set_title(f'Distribución de {feature}')\n",
    "\n",
    "plt.tight_layout()\n",
    "plt.show()"
   ]
  },
  {
   "cell_type": "markdown",
   "metadata": {},
   "source": [
    "## 5. Preparar datos para entrenamiento"
   ]
  },
  {
   "cell_type": "code",
   "execution_count": 7,
   "metadata": {},
   "outputs": [
    {
     "name": "stdout",
     "output_type": "stream",
     "text": [
      "X shape: (342, 4)\n",
      "y shape: (342,)\n",
      "\n",
      "Mapeo de clases:\n",
      "  0: Adelie\n",
      "  1: Chinstrap\n",
      "  2: Gentoo\n"
     ]
    }
   ],
   "source": [
    "# Preparar X (features) e y (target)\n",
    "X = df_clean[PENGUIN_FEATURES].astype(float)\n",
    "y = df_clean[\"species\"].astype(\"category\").cat.codes\n",
    "\n",
    "# Guardar mapeo de clases\n",
    "classes = list(df_clean[\"species\"].astype(\"category\").cat.categories)\n",
    "class_mapping = {i: name for i, name in enumerate(classes)}\n",
    "\n",
    "print(f\"X shape: {X.shape}\")\n",
    "print(f\"y shape: {y.shape}\")\n",
    "print(f\"\\nMapeo de clases:\")\n",
    "for idx, name in class_mapping.items():\n",
    "    print(f\"  {idx}: {name}\")"
   ]
  },
  {
   "cell_type": "code",
   "execution_count": 8,
   "metadata": {},
   "outputs": [
    {
     "name": "stdout",
     "output_type": "stream",
     "text": [
      "Conjunto de entrenamiento: 273 muestras\n",
      "Conjunto de prueba: 69 muestras\n"
     ]
    }
   ],
   "source": [
    "# División train/test\n",
    "X_train, X_test, y_train, y_test = train_test_split(\n",
    "    X, y, test_size=0.2, random_state=42, stratify=y\n",
    ")\n",
    "\n",
    "print(f\"Conjunto de entrenamiento: {X_train.shape[0]} muestras\")\n",
    "print(f\"Conjunto de prueba: {X_test.shape[0]} muestras\")"
   ]
  },
  {
   "cell_type": "markdown",
   "metadata": {},
   "source": [
    "## 6. Entrenar modelo KNN"
   ]
  },
  {
   "cell_type": "code",
   "execution_count": 9,
   "metadata": {},
   "outputs": [
    {
     "name": "stdout",
     "output_type": "stream",
     "text": [
      "🎯 Modelo KNN entrenado:\n",
      "  - Accuracy: 1.0000\n",
      "  - F1-score (macro): 1.0000\n",
      "\n",
      "Reporte de clasificación:\n",
      "              precision    recall  f1-score   support\n",
      "\n",
      "      Adelie       1.00      1.00      1.00        30\n",
      "   Chinstrap       1.00      1.00      1.00        14\n",
      "      Gentoo       1.00      1.00      1.00        25\n",
      "\n",
      "    accuracy                           1.00        69\n",
      "   macro avg       1.00      1.00      1.00        69\n",
      "weighted avg       1.00      1.00      1.00        69\n",
      "\n"
     ]
    }
   ],
   "source": [
    "# Pipeline KNN con escalado\n",
    "knn_pipeline = Pipeline([\n",
    "    (\"scaler\", StandardScaler()),\n",
    "    (\"clf\", KNeighborsClassifier(n_neighbors=5))\n",
    "])\n",
    "\n",
    "# Entrenar\n",
    "knn_pipeline.fit(X_train, y_train)\n",
    "\n",
    "# Predecir\n",
    "y_pred_knn = knn_pipeline.predict(X_test)\n",
    "\n",
    "# Métricas\n",
    "knn_accuracy = accuracy_score(y_test, y_pred_knn)\n",
    "knn_f1 = f1_score(y_test, y_pred_knn, average=\"macro\")\n",
    "\n",
    "print(\"🎯 Modelo KNN entrenado:\")\n",
    "print(f\"  - Accuracy: {knn_accuracy:.4f}\")\n",
    "print(f\"  - F1-score (macro): {knn_f1:.4f}\")\n",
    "print(\"\\nReporte de clasificación:\")\n",
    "print(classification_report(y_test, y_pred_knn, target_names=classes))"
   ]
  },
  {
   "cell_type": "markdown",
   "metadata": {},
   "source": [
    "## 7. Entrenar modelo Random Forest"
   ]
  },
  {
   "cell_type": "code",
   "execution_count": 10,
   "metadata": {},
   "outputs": [
    {
     "name": "stdout",
     "output_type": "stream",
     "text": [
      "🌲 Modelo Random Forest entrenado:\n",
      "  - Accuracy: 1.0000\n",
      "  - F1-score (macro): 1.0000\n",
      "\n",
      "Reporte de clasificación:\n",
      "              precision    recall  f1-score   support\n",
      "\n",
      "      Adelie       1.00      1.00      1.00        30\n",
      "   Chinstrap       1.00      1.00      1.00        14\n",
      "      Gentoo       1.00      1.00      1.00        25\n",
      "\n",
      "    accuracy                           1.00        69\n",
      "   macro avg       1.00      1.00      1.00        69\n",
      "weighted avg       1.00      1.00      1.00        69\n",
      "\n"
     ]
    }
   ],
   "source": [
    "# Pipeline Random Forest (no necesita escalado)\n",
    "rf_pipeline = Pipeline([\n",
    "    (\"clf\", RandomForestClassifier(n_estimators=200, random_state=42))\n",
    "])\n",
    "\n",
    "# Entrenar\n",
    "rf_pipeline.fit(X_train, y_train)\n",
    "\n",
    "# Predecir\n",
    "y_pred_rf = rf_pipeline.predict(X_test)\n",
    "\n",
    "# Métricas\n",
    "rf_accuracy = accuracy_score(y_test, y_pred_rf)\n",
    "rf_f1 = f1_score(y_test, y_pred_rf, average=\"macro\")\n",
    "\n",
    "print(\"🌲 Modelo Random Forest entrenado:\")\n",
    "print(f\"  - Accuracy: {rf_accuracy:.4f}\")\n",
    "print(f\"  - F1-score (macro): {rf_f1:.4f}\")\n",
    "print(\"\\nReporte de clasificación:\")\n",
    "print(classification_report(y_test, y_pred_rf, target_names=classes))"
   ]
  },
  {
   "cell_type": "markdown",
   "metadata": {},
   "source": [
    "## 8. Entrenar modelo SVM (adicional)"
   ]
  },
  {
   "cell_type": "code",
   "execution_count": 11,
   "metadata": {},
   "outputs": [
    {
     "name": "stdout",
     "output_type": "stream",
     "text": [
      "🔮 Modelo SVM entrenado:\n",
      "  - Accuracy: 1.0000\n",
      "  - F1-score (macro): 1.0000\n",
      "\n",
      "Reporte de clasificación:\n",
      "              precision    recall  f1-score   support\n",
      "\n",
      "      Adelie       1.00      1.00      1.00        30\n",
      "   Chinstrap       1.00      1.00      1.00        14\n",
      "      Gentoo       1.00      1.00      1.00        25\n",
      "\n",
      "    accuracy                           1.00        69\n",
      "   macro avg       1.00      1.00      1.00        69\n",
      "weighted avg       1.00      1.00      1.00        69\n",
      "\n"
     ]
    }
   ],
   "source": [
    "# Pipeline SVM con escalado\n",
    "svm_pipeline = Pipeline([\n",
    "    (\"scaler\", StandardScaler()),\n",
    "    (\"clf\", SVC(kernel='rbf', probability=True, random_state=42))\n",
    "])\n",
    "\n",
    "# Entrenar\n",
    "svm_pipeline.fit(X_train, y_train)\n",
    "\n",
    "# Predecir\n",
    "y_pred_svm = svm_pipeline.predict(X_test)\n",
    "\n",
    "# Métricas\n",
    "svm_accuracy = accuracy_score(y_test, y_pred_svm)\n",
    "svm_f1 = f1_score(y_test, y_pred_svm, average=\"macro\")\n",
    "\n",
    "print(\"🔮 Modelo SVM entrenado:\")\n",
    "print(f\"  - Accuracy: {svm_accuracy:.4f}\")\n",
    "print(f\"  - F1-score (macro): {svm_f1:.4f}\")\n",
    "print(\"\\nReporte de clasificación:\")\n",
    "print(classification_report(y_test, y_pred_svm, target_names=classes))"
   ]
  },
  {
   "cell_type": "markdown",
   "metadata": {},
   "source": [
    "## 9. Guardar modelos en la carpeta compartida"
   ]
  },
  {
   "cell_type": "code",
   "execution_count": 12,
   "metadata": {},
   "outputs": [
    {
     "name": "stdout",
     "output_type": "stream",
     "text": [
      "✅ Modelos guardados:\n",
      "  - models/knn.pkl\n",
      "  - models/rf.pkl\n",
      "  - models/svm.pkl\n"
     ]
    }
   ],
   "source": [
    "# Guardar modelos como archivos .pkl\n",
    "joblib.dump(knn_pipeline, MODELS_DIR / \"knn.pkl\")\n",
    "joblib.dump(rf_pipeline, MODELS_DIR / \"rf.pkl\")\n",
    "joblib.dump(svm_pipeline, MODELS_DIR / \"svm.pkl\")\n",
    "\n",
    "print(\"✅ Modelos guardados:\")\n",
    "print(f\"  - {MODELS_DIR}/knn.pkl\")\n",
    "print(f\"  - {MODELS_DIR}/rf.pkl\")\n",
    "print(f\"  - {MODELS_DIR}/svm.pkl\")"
   ]
  },
  {
   "cell_type": "markdown",
   "metadata": {},
   "source": [
    "## 10. Crear archivo de metadata"
   ]
  },
  {
   "cell_type": "code",
   "execution_count": 13,
   "metadata": {},
   "outputs": [
    {
     "name": "stdout",
     "output_type": "stream",
     "text": [
      "📄 Metadata guardada en model_metadata.json\n",
      "{\n",
      "  \"classes\": [\n",
      "    \"Adelie\",\n",
      "    \"Chinstrap\",\n",
      "    \"Gentoo\"\n",
      "  ],\n",
      "  \"feature_order\": [\n",
      "    \"bill_length_mm\",\n",
      "    \"bill_depth_mm\",\n",
      "    \"flipper_length_mm\",\n",
      "    \"body_mass_g\"\n",
      "  ],\n",
      "  \"models\": {\n",
      "    \"knn.pkl\": {\n",
      "      \"accuracy\": 1.0,\n",
      "      \"f1_macro\": 1.0\n",
      "    },\n",
      "    \"rf.pkl\": {\n",
      "      \"accuracy\": 1.0,\n",
      "      \"f1_macro\": 1.0\n",
      "    },\n",
      "    \"svm.pkl\": {\n",
      "      \"accuracy\": 1.0,\n",
      "      \"f1_macro\": 1.0\n",
      "    }\n",
      "  }\n",
      "}\n"
     ]
    }
   ],
   "source": [
    "# Crear metadata con información sobre los modelos\n",
    "metadata = {\n",
    "    \"classes\": classes,\n",
    "    \"feature_order\": PENGUIN_FEATURES,\n",
    "    \"models\": {\n",
    "        \"knn.pkl\": {\n",
    "            \"accuracy\": float(knn_accuracy),\n",
    "            \"f1_macro\": float(knn_f1)\n",
    "        },\n",
    "        \"rf.pkl\": {\n",
    "            \"accuracy\": float(rf_accuracy),\n",
    "            \"f1_macro\": float(rf_f1)\n",
    "        },\n",
    "        \"svm.pkl\": {\n",
    "            \"accuracy\": float(svm_accuracy),\n",
    "            \"f1_macro\": float(svm_f1)\n",
    "        }\n",
    "    }\n",
    "}\n",
    "\n",
    "# Guardar metadata\n",
    "with open(MODELS_DIR / \"model_metadata.json\", \"w\") as f:\n",
    "    json.dump(metadata, f, indent=2)\n",
    "\n",
    "print(\"📄 Metadata guardada en model_metadata.json\")\n",
    "print(json.dumps(metadata, indent=2))"
   ]
  },
  {
   "cell_type": "markdown",
   "metadata": {},
   "source": [
    "## 11. Verificar modelos guardados"
   ]
  },
  {
   "cell_type": "code",
   "execution_count": 14,
   "metadata": {},
   "outputs": [
    {
     "name": "stdout",
     "output_type": "stream",
     "text": [
      "📁 Contenido de ./models:\n",
      "  - knn.pkl (25,632 bytes)\n",
      "  - model_metadata.json (402 bytes)\n",
      "  - rf.pkl (528,938 bytes)\n",
      "  - svm.pkl (6,005 bytes)\n"
     ]
    }
   ],
   "source": [
    "# Listar archivos en la carpeta models\n",
    "print(\"📁 Contenido de ./models:\")\n",
    "for file in sorted(MODELS_DIR.iterdir()):\n",
    "    size = file.stat().st_size\n",
    "    print(f\"  - {file.name} ({size:,} bytes)\")"
   ]
  },
  {
   "cell_type": "markdown",
   "metadata": {},
   "source": [
    "## 12. Probar la API con los modelos entrenados"
   ]
  },
  {
   "cell_type": "code",
   "execution_count": 15,
   "metadata": {},
   "outputs": [
    {
     "name": "stdout",
     "output_type": "stream",
     "text": [
      "🏥 Estado de la API:\n",
      "{\n",
      "  \"status\": \"healthy\",\n",
      "  \"models_loaded\": 3,\n",
      "  \"models_directory\": \"/app/models\"\n",
      "}\n"
     ]
    }
   ],
   "source": [
    "import requests\n",
    "import time\n",
    "\n",
    "# Esperar un momento para asegurar que la API detecte los nuevos modelos\n",
    "time.sleep(2)\n",
    "\n",
    "# URL de la API (usando nombre del servicio Docker)\n",
    "API_URL = \"http://api:8000\"\n",
    "\n",
    "try:\n",
    "    # Verificar salud de la API\n",
    "    response = requests.get(f\"{API_URL}/health\")\n",
    "    print(\"🏥 Estado de la API:\")\n",
    "    print(json.dumps(response.json(), indent=2))\n",
    "    \n",
    "except Exception as e:\n",
    "    print(f\"⚠️ Error conectando con la API: {e}\")\n",
    "    print(\"Nota: Si estás ejecutando esto localmente (no en Docker), cambia API_URL a 'http://localhost:8000'\")"
   ]
  },
  {
   "cell_type": "code",
   "execution_count": 16,
   "metadata": {},
   "outputs": [
    {
     "name": "stdout",
     "output_type": "stream",
     "text": [
      "🤖 Modelos disponibles en la API:\n",
      "{\n",
      "  \"available_models\": [\n",
      "    \"svm\",\n",
      "    \"rf\",\n",
      "    \"knn\"\n",
      "  ],\n",
      "  \"total_count\": 3\n",
      "}\n"
     ]
    }
   ],
   "source": [
    "try:\n",
    "    # Listar modelos disponibles\n",
    "    response = requests.get(f\"{API_URL}/models\")\n",
    "    print(\"🤖 Modelos disponibles en la API:\")\n",
    "    print(json.dumps(response.json(), indent=2))\n",
    "except Exception as e:\n",
    "    print(f\"Error: {e}\")"
   ]
  },
  {
   "cell_type": "code",
   "execution_count": 17,
   "metadata": {},
   "outputs": [
    {
     "name": "stdout",
     "output_type": "stream",
     "text": [
      "🔮 Predicciones con todos los modelos:\n",
      "\n",
      "📊 Modelo: svm\n",
      "   Predicción: Chinstrap\n",
      "   Probabilidades:\n",
      "     - Adelie: 0.357\n",
      "     - Chinstrap: 0.586\n",
      "     - Gentoo: 0.058\n",
      "\n",
      "📊 Modelo: rf\n",
      "   Predicción: Adelie\n",
      "   Probabilidades:\n",
      "     - Adelie: 0.605\n",
      "     - Chinstrap: 0.315\n",
      "     - Gentoo: 0.080\n",
      "\n",
      "📊 Modelo: knn\n",
      "   Predicción: Chinstrap\n",
      "   Probabilidades:\n",
      "     - Adelie: 0.400\n",
      "     - Chinstrap: 0.600\n",
      "     - Gentoo: 0.000\n"
     ]
    }
   ],
   "source": [
    "# Hacer una predicción de prueba\n",
    "sample_penguin = {\n",
    "    \"bill_length_mm\": 44.5,\n",
    "    \"bill_depth_mm\": 17.1,\n",
    "    \"flipper_length_mm\": 200,\n",
    "    \"body_mass_g\": 4200\n",
    "}\n",
    "\n",
    "try:\n",
    "    # Predicción con todos los modelos\n",
    "    response = requests.post(f\"{API_URL}/predict\", json=sample_penguin)\n",
    "    print(\"🔮 Predicciones con todos los modelos:\")\n",
    "    predictions = response.json()\n",
    "    \n",
    "    for pred in predictions['predictions']:\n",
    "        print(f\"\\n📊 Modelo: {pred['model']}\")\n",
    "        print(f\"   Predicción: {pred['prediction']}\")\n",
    "        if 'probabilities' in pred:\n",
    "            print(\"   Probabilidades:\")\n",
    "            for species, prob in pred['probabilities'].items():\n",
    "                print(f\"     - {species}: {prob:.3f}\")\n",
    "                \n",
    "except Exception as e:\n",
    "    print(f\"Error haciendo predicción: {e}\")"
   ]
  },
  {
   "cell_type": "markdown",
   "metadata": {},
   "source": [
    "## 🎉 ¡Felicidades!\n",
    "\n",
    "Has completado el entrenamiento de modelos desde JupyterLab. Los modelos están guardados en `./models` y la API FastAPI puede usarlos para hacer predicciones.\n",
    "\n",
    "### Próximos pasos:\n",
    "1. Experimenta con otros algoritmos (Gradient Boosting, Neural Networks, etc.)\n",
    "2. Ajusta hiperparámetros para mejorar el rendimiento\n",
    "3. Agrega validación cruzada\n",
    "4. Implementa feature engineering\n",
    "5. Crea visualizaciones más avanzadas"
   ]
  }
 ],
 "metadata": {
  "kernelspec": {
   "display_name": "Python 3 (ipykernel)",
   "language": "python",
   "name": "python3"
  },
  "language_info": {
   "codemirror_mode": {
    "name": "ipython",
    "version": 3
   },
   "file_extension": ".py",
   "mimetype": "text/x-python",
   "name": "python",
   "nbconvert_exporter": "python",
   "pygments_lexer": "ipython3",
   "version": "3.9.23"
  }
 },
 "nbformat": 4,
 "nbformat_minor": 4
}
